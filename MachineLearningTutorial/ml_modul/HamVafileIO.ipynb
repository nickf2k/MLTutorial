{
 "cells": [
  {
   "cell_type": "code",
   "execution_count": 1,
   "metadata": {},
   "outputs": [
    {
     "name": "stdout",
     "output_type": "stream",
     "text": [
      "Nhap ten ban Cao Thi Khoi\n",
      "Nhap diem mon Dai So6.5\n",
      "Nhap diem mon Giai Tich7.5\n",
      "Nhap diem mon Vat Ly7\n",
      "Nhap mssv20165298\n",
      "Xin chao!!  Cao Thi Khoi\n",
      "MSSV cua ban la:   20165298\n",
      "Diem mon Dai So la:   6.5\n",
      "Diem mon Giai Tich la:   7.5\n",
      "Diem mon Vat Ly la:   7.0\n",
      "Diem trung binh la:   7.0\n"
     ]
    }
   ],
   "source": [
    "from notebook.notebookapp import raw_input\n",
    "\n",
    "name=raw_input(\"Nhap ten ban \")\n",
    "daiSo=float(raw_input(\"Nhap diem mon Dai So\"))\n",
    "giaiTich=float(raw_input(\"Nhap diem mon Giai Tich\"))\n",
    "vatLy=float(raw_input(\"Nhap diem mon Vat Ly\"))\n",
    "mssv=int(raw_input(\"Nhap mssv\"))\n",
    "print (\"Xin chao!! \",name)\n",
    "print (\"MSSV cua ban la:  \",mssv)\n",
    "print (\"Diem mon Dai So la:  \",daiSo)\n",
    "print (\"Diem mon Giai Tich la:  \",giaiTich)\n",
    "print (\"Diem mon Vat Ly la:  \",vatLy)\n",
    "print (\"Diem trung binh la:  \",(daiSo+giaiTich+vatLy)/3 )"
   ]
  },
  {
   "cell_type": "code",
   "execution_count": null,
   "metadata": {},
   "outputs": [],
   "source": []
  }
 ],
 "metadata": {
  "kernelspec": {
   "display_name": "Python 3",
   "language": "python",
   "name": "python3"
  },
  "language_info": {
   "codemirror_mode": {
    "name": "ipython",
    "version": 3
   },
   "file_extension": ".py",
   "mimetype": "text/x-python",
   "name": "python",
   "nbconvert_exporter": "python",
   "pygments_lexer": "ipython3",
   "version": "3.7.4"
  }
 },
 "nbformat": 4,
 "nbformat_minor": 2
}
