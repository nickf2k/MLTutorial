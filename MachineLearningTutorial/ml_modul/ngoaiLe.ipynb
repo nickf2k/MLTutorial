{
 "cells": [
  {
   "cell_type": "code",
   "execution_count": 3,
   "metadata": {},
   "outputs": [
    {
     "name": "stdout",
     "output_type": "stream",
     "text": [
      "3.0\n"
     ]
    }
   ],
   "source": [
    "def div(a, b):\n",
    "    return a / b\n",
    "\n",
    "try :\n",
    "    print(div(6, 2))\n",
    "except ZeroDivisionError:\n",
    "    print('Co loi xay ra!')"
   ]
  },
  {
   "cell_type": "code",
   "execution_count": 4,
   "metadata": {},
   "outputs": [
    {
     "name": "stdout",
     "output_type": "stream",
     "text": [
      "Co loi xay ra!\n"
     ]
    }
   ],
   "source": [
    "def div(a, b):\n",
    "    return a / b\n",
    "\n",
    "try :\n",
    "    print(div(6, 0))\n",
    "except ZeroDivisionError:\n",
    "    print('Co loi xay ra!')"
   ]
  },
  {
   "cell_type": "code",
   "execution_count": null,
   "metadata": {},
   "outputs": [],
   "source": []
  }
 ],
 "metadata": {
  "kernelspec": {
   "display_name": "Python 3",
   "language": "python",
   "name": "python3"
  },
  "language_info": {
   "codemirror_mode": {
    "name": "ipython",
    "version": 3
   },
   "file_extension": ".py",
   "mimetype": "text/x-python",
   "name": "python",
   "nbconvert_exporter": "python",
   "pygments_lexer": "ipython3",
   "version": "3.7.4"
  }
 },
 "nbformat": 4,
 "nbformat_minor": 2
}
