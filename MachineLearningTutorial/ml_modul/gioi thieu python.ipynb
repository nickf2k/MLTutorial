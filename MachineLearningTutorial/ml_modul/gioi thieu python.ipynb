{
 "cells": [
  {
   "cell_type": "code",
   "execution_count": 2,
   "metadata": {},
   "outputs": [
    {
     "name": "stdout",
     "output_type": "stream",
     "text": [
      "Cao Thị Khôi\n",
      "21\n",
      "HUST\n",
      "<class 'str'>\n"
     ]
    }
   ],
   "source": [
    "#In thông tin sinh viên\n",
    "ten = \"Cao Thị Khôi\"\n",
    "tuoi = 21\n",
    "truong = \"HUST\"\n",
    "print(ten)\n",
    "print(tuoi)\n",
    "print(truong)\n",
    "#Kiểu dữ liệu của biến\n",
    "type(truong)\n",
    "print(type(truong))"
   ]
  },
  {
   "cell_type": "code",
   "execution_count": 3,
   "metadata": {},
   "outputs": [
    {
     "name": "stdout",
     "output_type": "stream",
     "text": [
      "406639263594102\n"
     ]
    }
   ],
   "source": [
    "#Cộng các biến\n",
    "k = 20165298\n",
    "h = 20165299\n",
    "s = k + k * k\n",
    "print(s)"
   ]
  },
  {
   "cell_type": "code",
   "execution_count": null,
   "metadata": {},
   "outputs": [],
   "source": []
  }
 ],
 "metadata": {
  "kernelspec": {
   "display_name": "Python 3",
   "language": "python",
   "name": "python3"
  },
  "language_info": {
   "codemirror_mode": {
    "name": "ipython",
    "version": 3
   },
   "file_extension": ".py",
   "mimetype": "text/x-python",
   "name": "python",
   "nbconvert_exporter": "python",
   "pygments_lexer": "ipython3",
   "version": "3.7.4"
  }
 },
 "nbformat": 4,
 "nbformat_minor": 2
}
