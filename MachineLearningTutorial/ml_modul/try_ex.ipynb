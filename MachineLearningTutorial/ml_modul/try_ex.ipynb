{
 "cells": [
  {
   "cell_type": "code",
   "execution_count": 1,
   "metadata": {},
   "outputs": [
    {
     "name": "stdout",
     "output_type": "stream",
     "text": [
      "Three\n"
     ]
    }
   ],
   "source": [
    "print (\"Three\")\n",
    " \n",
    "value = 10 / 2"
   ]
  },
  {
   "cell_type": "code",
   "execution_count": 2,
   "metadata": {},
   "outputs": [
    {
     "name": "stdout",
     "output_type": "stream",
     "text": [
      "Three\n",
      "Two\n",
      "One\n",
      "Error:  division by zero\n",
      "Ignore to continue ...\n",
      "Let's go!\n"
     ]
    }
   ],
   "source": [
    "print (\"Three\")\n",
    " \n",
    "value = 10 / 2\n",
    " \n",
    "print (\"Two\")\n",
    " \n",
    "value = 10 / 1\n",
    "  \n",
    "print (\"One\")\n",
    " \n",
    "d = 0\n",
    " \n",
    " \n",
    "try :\n",
    "    # Phép chia này có vấn đề, chia cho 0.\n",
    "    # Một lỗi được phát ra tại đây (ZeroDivisionError).\n",
    "    value = 10 / d\n",
    "     \n",
    "    print (\"value = \", value)\n",
    "     \n",
    "except ZeroDivisionError as e :\n",
    "     \n",
    "    print (\"Error: \", str(e) )\n",
    "    print (\"Ignore to continue ...\")\n",
    " \n",
    " \n",
    "print (\"Let's go!\")"
   ]
  },
  {
   "cell_type": "code",
   "execution_count": 3,
   "metadata": {},
   "outputs": [
    {
     "name": "stdout",
     "output_type": "stream",
     "text": [
      "Co loi xay ra!\n"
     ]
    }
   ],
   "source": [
    "def sum(a, b):\n",
    "    return a / b\n",
    "\n",
    "try :\n",
    "    print(sum(6, 0))\n",
    "except ZeroDivisionError:\n",
    "    print('Co loi xay ra!')\n",
    "    "
   ]
  },
  {
   "cell_type": "code",
   "execution_count": 4,
   "metadata": {},
   "outputs": [
    {
     "name": "stdout",
     "output_type": "stream",
     "text": [
      "3.0\n"
     ]
    }
   ],
   "source": [
    "def sum(a, b):\n",
    "    return a / b\n",
    "\n",
    "try :\n",
    "    print(sum(6, 2))\n",
    "except ZeroDivisionError:\n",
    "    print('Co loi xay ra!')"
   ]
  },
  {
   "cell_type": "code",
   "execution_count": 6,
   "metadata": {},
   "outputs": [
    {
     "name": "stdout",
     "output_type": "stream",
     "text": [
      "có lỗi ở đây nè\n"
     ]
    }
   ],
   "source": [
    "def sum(a, b):\n",
    "    return a/b\n",
    "try: \n",
    "    print(sum(10/0))\n",
    "except ZeroDivisionError:\n",
    "    print(\"có lỗi ở đây nè\")"
   ]
  },
  {
   "cell_type": "code",
   "execution_count": null,
   "metadata": {},
   "outputs": [],
   "source": []
  }
 ],
 "metadata": {
  "kernelspec": {
   "display_name": "Python 3",
   "language": "python",
   "name": "python3"
  },
  "language_info": {
   "codemirror_mode": {
    "name": "ipython",
    "version": 3
   },
   "file_extension": ".py",
   "mimetype": "text/x-python",
   "name": "python",
   "nbconvert_exporter": "python",
   "pygments_lexer": "ipython3",
   "version": "3.7.4"
  }
 },
 "nbformat": 4,
 "nbformat_minor": 2
}
