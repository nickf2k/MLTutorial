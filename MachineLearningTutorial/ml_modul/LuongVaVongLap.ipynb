{
 "cells": [
  {
   "cell_type": "code",
   "execution_count": 1,
   "metadata": {},
   "outputs": [
    {
     "name": "stdout",
     "output_type": "stream",
     "text": [
      "Giải phương trình bậc 2\n",
      "a= 2\n",
      "b= 3\n",
      "c= 4\n",
      "pt vô nghiệm\n"
     ]
    }
   ],
   "source": [
    "print(\"Giải phương trình bậc 2\")\n",
    "a=int(input('a= '))\n",
    "b=int(input('b= '))\n",
    "c=int(input('c= '))\n",
    "denta=(b*b)-(4*a*c)\n",
    "if denta < 0:\n",
    "    print(\"pt vô nghiệm\")\n",
    "elif denta == 0 :\n",
    "    x=-b/(2*a*c)\n",
    "    print(\"Phương trình có nghiệm kép x= \" + str(x))\n",
    "else:\n",
    "    print(\"Phương trình có 2 nghiệm phân biệt\")"
   ]
  },
  {
   "cell_type": "code",
   "execution_count": null,
   "metadata": {},
   "outputs": [],
   "source": []
  }
 ],
 "metadata": {
  "kernelspec": {
   "display_name": "Python 3",
   "language": "python",
   "name": "python3"
  },
  "language_info": {
   "codemirror_mode": {
    "name": "ipython",
    "version": 3
   },
   "file_extension": ".py",
   "mimetype": "text/x-python",
   "name": "python",
   "nbconvert_exporter": "python",
   "pygments_lexer": "ipython3",
   "version": "3.7.4"
  }
 },
 "nbformat": 4,
 "nbformat_minor": 2
}
